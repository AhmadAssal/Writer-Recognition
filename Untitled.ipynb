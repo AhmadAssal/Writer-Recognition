{
 "cells": [
  {
   "cell_type": "code",
   "execution_count": null,
   "metadata": {},
   "outputs": [],
   "source": [
    "#Updated Grey Scale Notebook"
   ]
  },
  {
   "cell_type": "code",
   "execution_count": 1,
   "metadata": {},
   "outputs": [],
   "source": [
    "import numpy as np\n",
    "import os\n",
    "import cv2 as cv2\n",
    "import math\n",
    "import matplotlib.pyplot as plt\n",
    "import matplotlib.image as mpimg\n"
   ]
  },
  {
   "cell_type": "code",
   "execution_count": 2,
   "metadata": {},
   "outputs": [],
   "source": [
    "def show(img, factor=1,name=\"image\"):\n",
    "    \"\"\" \n",
    "    show an image until the escape key is pressed\n",
    "    :param factor: scale factor (default 1, half size)\n",
    "    \"\"\"\n",
    "    if factor != 1.0:\n",
    "        img = cv2.resize(img, (0,0), fx=factor, fy=factor) \n",
    "\n",
    "    cv2.imshow(name,img)\n",
    "    while(1):\n",
    "        k = cv2.waitKey(0)\n",
    "        if k==27:    # Esc key to stop\n",
    "            break\n",
    "    cv2.destroyAllWindows()"
   ]
  },
  {
   "cell_type": "code",
   "execution_count": 3,
   "metadata": {},
   "outputs": [],
   "source": [
    "def read_image(input_path):\n",
    "    img = cv2.imread(input_path,0)\n",
    "    return img"
   ]
  },
  {
   "cell_type": "code",
   "execution_count": 9,
   "metadata": {},
   "outputs": [],
   "source": [
    "def binarize(img):\n",
    "    thresh = cv2.threshold(img,0,255,cv2.THRESH_BINARY+cv2.THRESH_OTSU)\n",
    "    img[img >= thresh[0]] = 255\n",
    "    img[img <= thresh[0]] = 0\n",
    "    img = cv2.bitwise_not(img)\n",
    "    kernel = cv2.getStructuringElement(cv2.MORPH_RECT,(2,2))\n",
    "    img = cv2.morphologyEx(img, cv2.MORPH_OPEN, kernel)\n",
    "    img = cv2.morphologyEx(img, cv2.MORPH_CLOSE, kernel)\n",
    "    return img"
   ]
  },
  {
   "cell_type": "code",
   "execution_count": 4,
   "metadata": {},
   "outputs": [],
   "source": [
    "def preprocess_img(img,show_steps=1,show_size=0.2):\n",
    "    img = cv2.GaussianBlur(img,(11,11),0)\n",
    "    img = binarize(img)\n",
    "    if show_steps == 1:        \n",
    "        show(img,show_size,\"Preprocessed Image\")\n",
    "    return img"
   ]
  },
  {
   "cell_type": "code",
   "execution_count": 5,
   "metadata": {},
   "outputs": [],
   "source": [
    "def remove_top(img,show_steps=1,show_size=0.2):\n",
    "    original = img.copy()\n",
    "    img = binarize(img)\n",
    "    trsh = 0.1\n",
    "    kernel = np.ones((5,5),np.uint8)\n",
    "    erosion = cv2.dilate(img,kernel,iterations = 8)\n",
    "    proj = np.sum(erosion,axis=1).astype(int)\n",
    "    if show_steps == 1:        \n",
    "        show(erosion,show_size,\"Eroded\")\n",
    "    max_line = np.amax(proj)\n",
    "\n",
    "    lines = []\n",
    "    lines.append(300)\n",
    "    for i in range(img.shape[0]):\n",
    "        if(proj[i] >= trsh*max_line) :\n",
    "            if(len(lines) > 0 ):\n",
    "                if(lines[-1] + img.shape[0]/10 > i ):\n",
    "                    continue\n",
    "            if( (i>=500 and i <= 900) or (i>=2600 and i <= 2900)):\n",
    "                lines.append(i)\n",
    "    if show_steps == 1:        \n",
    "        show(img[lines[1]:lines[2],:],show_size,\"Cropped Image\")\n",
    "    \n",
    "    return original[lines[1]:lines[2],:]\n"
   ]
  },
  {
   "cell_type": "code",
   "execution_count": null,
   "metadata": {},
   "outputs": [],
   "source": [
    "def get_sentences(img,show_steps=0,show_size=0.2):\n",
    "    \n",
    "    original = img.copy()\n",
    "    blurred = cv2.GaussianBlur(img, (1, 1), 0)\n",
    "    canny = cv2.Canny(blurred, 50, 255, 1)\n",
    "    kernel = np.ones((1,5),np.uint8)\n",
    "    dilate = cv2.dilate(canny, kernel, iterations=40)\n",
    "    \n",
    "    if show_steps == 1:        \n",
    "        show(dilate,show_size,\"Sentences\")\n",
    "    \n",
    "    # Find contours\n",
    "    cnts = cv2.findContours(dilate, cv2.RETR_EXTERNAL, cv2.CHAIN_APPROX_SIMPLE)\n",
    "    cnts = cnts[0] if len(cnts) == 2 else cnts[1]\n",
    "\n",
    "    # Iterate thorugh contours and filter for ROI\n",
    "    image_number = 0\n",
    "    order_list = []\n",
    "    images = []\n",
    "    area = 0 \n",
    "    for c in cnts:\n",
    "        area += cv2.contourArea(c)\n",
    "    area /= (len(cnts)+5)\n",
    "    for c in cnts:\n",
    "        if(cv2.contourArea(c) > area):\n",
    "            x,y,w,h = cv2.boundingRect(c)\n",
    "            if h > img.shape[0]/8:\n",
    "                continue\n",
    "            #cv2.rectangle(img, (x, y), (x + w, y + h), (36,255,12), 2)\n",
    "            ROI = original[y:y+h, x:x+w]\n",
    "            if show_steps == 1:        \n",
    "                show(ROI,show_size,\"Sentence\")\n",
    "            images.append(ROI)\n",
    "            order_list.append(y+x/1000)\n",
    "            image_number += 1\n",
    "    segments = [x for _,x in sorted(zip(order_list,images))]\n",
    "    return segments"
   ]
  },
  {
   "cell_type": "code",
   "execution_count": 8,
   "metadata": {},
   "outputs": [],
   "source": [
    "input_path = '/home/ahmad/Desktop/AlexRun/Pattern Recognition/Dataset/formsA-D/a01-000u.png'\n",
    "\n",
    "show(remove_top(read_image(input_path), 0), 0.5, \"Cropped?\")"
   ]
  },
  {
   "cell_type": "code",
   "execution_count": null,
   "metadata": {},
   "outputs": [],
   "source": []
  }
 ],
 "metadata": {
  "kernelspec": {
   "display_name": "Python 3",
   "language": "python",
   "name": "python3"
  },
  "language_info": {
   "codemirror_mode": {
    "name": "ipython",
    "version": 3
   },
   "file_extension": ".py",
   "mimetype": "text/x-python",
   "name": "python",
   "nbconvert_exporter": "python",
   "pygments_lexer": "ipython3",
   "version": "3.8.5"
  }
 },
 "nbformat": 4,
 "nbformat_minor": 4
}
